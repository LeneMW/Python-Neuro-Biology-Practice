{
 "cells": [
  {
   "cell_type": "markdown",
   "id": "024d25f0-70cf-453c-977a-5533e574fe83",
   "metadata": {},
   "source": [
    "# Lesson: Variables\n",
    "Learning objectives: How can I store data in programs?\n",
    "\n",
    "Variables are names for values. In python the \"=\" sign assigns the value on the right to the name on the left.\n",
    "\n",
    "The variable is created when a value is assigned to it. \n",
    "\n",
    "Variables can only contain letters, digits, and underscore but cannot start with a digit and are case sensitive.\n",
    "\n",
    "\n",
    "### Print\n",
    "The values passed through the print function are called arguments."
   ]
  },
  {
   "cell_type": "markdown",
   "id": "60ff41fd-13c9-4a04-b281-c330062fb347",
   "metadata": {},
   "source": [
    "print(first_name, 'is', age, 'years old')"
   ]
  },
  {
   "cell_type": "code",
   "execution_count": 2,
   "id": "15e722d4-74c9-4fbc-ae83-1ff646fa62e2",
   "metadata": {},
   "outputs": [
    {
     "name": "stdout",
     "output_type": "stream",
     "text": [
      "Lene is 23 years old\n"
     ]
    }
   ],
   "source": [
    "first_name = \"Lene\"\n",
    "age = 23\n",
    "\n",
    "print(first_name, 'is', age, 'years old')"
   ]
  },
  {
   "cell_type": "markdown",
   "id": "51efe38e-27cc-4f0d-93c7-744aa0138c5c",
   "metadata": {},
   "source": [
    "Variables need to be created before they are used. Otherwise, they are undefined which happened to me on the last one because I had forgotten to define \"first_name\", but it has been corrected.\n",
    "\n",
    "Python is also case sensitive, so it is a good idea to always use lowercase variables and use simple variable names to make it easy to follow."
   ]
  },
  {
   "cell_type": "markdown",
   "id": "767b6b86-5430-47ef-ac85-8b2f10bcec54",
   "metadata": {},
   "source": [
    "Variables change value when something new is assigned to them:"
   ]
  },
  {
   "cell_type": "code",
   "execution_count": 3,
   "id": "996d39c4-3526-4e5a-acd1-c5c63221a469",
   "metadata": {},
   "outputs": [
    {
     "name": "stdout",
     "output_type": "stream",
     "text": [
      "first is 2 and second is 5\n"
     ]
    }
   ],
   "source": [
    "first = 1\n",
    "second = 5 * first\n",
    "first = 2\n",
    "print('first is', first, 'and second is', second)"
   ]
  },
  {
   "cell_type": "markdown",
   "id": "2511c498-d1e0-43b5-b553-0f0a934e17b1",
   "metadata": {},
   "source": [
    "Now that first = 2, second does not remember how it became 5 from the initial \"first\" variable."
   ]
  },
  {
   "cell_type": "markdown",
   "id": "a5a81e61-c16b-4a18-8699-820874424c4d",
   "metadata": {},
   "source": [
    "### Exercise 1\n",
    "From: https://coyotelearner.co/topic/exercises-introduction-to-python-variables/\n",
    "\n",
    "Run the following code and study the print instructions one by one to understand how they work."
   ]
  },
  {
   "cell_type": "code",
   "execution_count": 4,
   "id": "4b15e08b-7a90-4d9e-869b-5c95e5b53654",
   "metadata": {},
   "outputs": [
    {
     "name": "stdout",
     "output_type": "stream",
     "text": [
      "67\n",
      "Hello Python Learner\n",
      "first text second text\n",
      "/n\n",
      "first textsecond text\n",
      "112\n"
     ]
    }
   ],
   "source": [
    "print (67) # This function will print the integer: 67\n",
    "print (\"Hello Python Learner\") # This function will print the string inside the quotations\n",
    "print(\"first text\", \"second text\") # This function will print the two strings separately. One could have made this a list variable instead to print out.\n",
    "print (\"/n\") # Again, this will print this string.\n",
    "print (\"first text\" + \"second text\") # By using a + sign instead of a comma, there is no separation between the two strings.\n",
    "print (45 + 67) # This function printed the sum of the two integers."
   ]
  },
  {
   "cell_type": "markdown",
   "id": "f20113c4-3dc6-4cc0-84ad-18a07c4489f4",
   "metadata": {},
   "source": [
    "### Exercise 2\n",
    "From: https://coyotelearner.co/topic/exercises-introduction-to-python-variables/\n",
    "\n",
    "Create a variable with the name firstWord and assign the value: Hello in it. Then create a second variable named secondWord and assign the value: world. Now use those two variables you have just created to print out the text: Hello World"
   ]
  },
  {
   "cell_type": "code",
   "execution_count": 5,
   "id": "08cc01f6-7748-4f62-b061-e2fa2ba5071c",
   "metadata": {},
   "outputs": [
    {
     "name": "stdout",
     "output_type": "stream",
     "text": [
      "Hello World\n"
     ]
    }
   ],
   "source": [
    "first_word = \"Hello\"\n",
    "second_word = \"World\"\n",
    "\n",
    "print(first_word, second_word)\n"
   ]
  },
  {
   "cell_type": "code",
   "execution_count": 6,
   "id": "559eb474-6919-4b7e-ba35-6c9fda527979",
   "metadata": {},
   "outputs": [
    {
     "name": "stdout",
     "output_type": "stream",
     "text": [
      "Hello World\n"
     ]
    }
   ],
   "source": [
    "# Now I could have just made this single variable instead:\n",
    "\n",
    "first_phrase = \"Hello World\"\n",
    "print(first_phrase)"
   ]
  },
  {
   "cell_type": "markdown",
   "id": "1fdf9866-1091-4ddf-a5c4-653e36fa707d",
   "metadata": {},
   "source": [
    "### Exercise 3\n",
    "\n",
    "Take the sentence:\n",
    "\n",
    "Python is incredible. I love it!.\n",
    "\n",
    "Store each word in a separate variable, then print out the sentence on one line using print function."
   ]
  },
  {
   "cell_type": "code",
   "execution_count": 7,
   "id": "cfb5f397-a469-43ae-9834-0392e243b65e",
   "metadata": {},
   "outputs": [
    {
     "name": "stdout",
     "output_type": "stream",
     "text": [
      "Python is incredible. I love it!\n"
     ]
    }
   ],
   "source": [
    "p = \"Python\"\n",
    "i = \"is\"\n",
    "inc = \"incredible.\"\n",
    "eye = \"I\"\n",
    "heart = \"love\"\n",
    "t = \"it!\"\n",
    "\n",
    "print(p, i, inc, eye, heart, t)\n",
    "\n",
    "# This was very inefficient but okay..."
   ]
  },
  {
   "cell_type": "markdown",
   "id": "3d3c488b-a9c7-4104-ba29-f90c1498c7b4",
   "metadata": {},
   "source": [
    "### Exercise 4\n",
    "\n",
    "First, assign your name into name variable, your last name into last_name variable and your age into age variable. Then print on the screen the following text:\n",
    "\n",
    "Mick Jagger is 71 years old\n",
    "\n",
    "Of course name, last name and age have to contain your information."
   ]
  },
  {
   "cell_type": "code",
   "execution_count": 10,
   "id": "472711f1-5e43-4199-8edf-73a573b32887",
   "metadata": {},
   "outputs": [
    {
     "name": "stdout",
     "output_type": "stream",
     "text": [
      "Mick Jagger is 71 years old\n"
     ]
    }
   ],
   "source": [
    "first_name = \"Mick\"\n",
    "last_name = \"Jagger\"\n",
    "age = 71\n",
    "\n",
    "print(first_name, last_name, \"is\", age, \"years old\")\n"
   ]
  },
  {
   "cell_type": "code",
   "execution_count": null,
   "id": "88f63e4e-0e2b-4ed4-bc88-8edfff31889b",
   "metadata": {},
   "outputs": [],
   "source": []
  }
 ],
 "metadata": {
  "kernelspec": {
   "display_name": "Python 3 (ipykernel)",
   "language": "python",
   "name": "python3"
  },
  "language_info": {
   "codemirror_mode": {
    "name": "ipython",
    "version": 3
   },
   "file_extension": ".py",
   "mimetype": "text/x-python",
   "name": "python",
   "nbconvert_exporter": "python",
   "pygments_lexer": "ipython3",
   "version": "3.12.8"
  }
 },
 "nbformat": 4,
 "nbformat_minor": 5
}
