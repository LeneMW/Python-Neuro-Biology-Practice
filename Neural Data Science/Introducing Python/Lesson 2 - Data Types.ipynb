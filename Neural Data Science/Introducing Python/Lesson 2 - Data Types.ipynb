{
 "cells": [
  {
   "cell_type": "markdown",
   "id": "e85c7310-4695-4487-8c51-cccae58d8821",
   "metadata": {},
   "source": [
    "# Lesson 2: Data Types and Conversion\n",
    "\n",
    "Questions and Learning Objectives:\n",
    "- What kind of data do programs store?\n",
    "- How can I convert one type to another?\n",
    "\n",
    "- Explain the key differences between integers and floating point numbers.\n",
    "- Explain key differences between numbers and character strings.\n",
    "- Use built-in functions to convert between integers, floating point numbers, and strings.\n",
    "\n",
    "### Value Types\n",
    "\n",
    "- Integer is represented as (int) and is a + or - whole number\n",
    "- Floating point numbers are represented as (float): real number, has a decimal point\n",
    "- Character (char): single characters like \"a\", \"j\", \"8\", \"(\"\n",
    "-    Characters are written either in single quotes or double quotes, as long as they match.\n",
    "-    Numerals placed in quotes will be treated as characters, not integers or floats.\n",
    "- Character string or simple a string (str)\n",
    "-    Written in either single or double quotes as long as they match\n",
    "-    Quote marks aren't printed when the string is displayed."
   ]
  },
  {
   "cell_type": "code",
   "execution_count": 2,
   "id": "9be0329b-fdad-431c-8d8c-7144663ce86c",
   "metadata": {},
   "outputs": [
    {
     "name": "stdout",
     "output_type": "stream",
     "text": [
      "<class 'int'>\n"
     ]
    }
   ],
   "source": [
    "# Using the \"type\" function will allow you to figure out what data type the value input has.\n",
    "\n",
    "print(type(52))"
   ]
  },
  {
   "cell_type": "code",
   "execution_count": 3,
   "id": "91bf2a81-12b5-4712-b10b-b512952f48f2",
   "metadata": {},
   "outputs": [
    {
     "name": "stdout",
     "output_type": "stream",
     "text": [
      "<class 'str'>\n"
     ]
    }
   ],
   "source": [
    "fitness = \"average\"\n",
    "print(type(fitness))\n"
   ]
  },
  {
   "cell_type": "markdown",
   "id": "49edb6ac-7d53-41d4-85fa-7f2efe991f0a",
   "metadata": {},
   "source": [
    "You can + and * with strings.\n",
    "\n",
    "If you use fullname = \"Lene\" + \"Wessel\" and then print(fullnmae) it will concatenate (aka link) together the two strings: LeneWessel. Therefore, one must insert spaces.\n",
    "\n",
    "You could also run greeting = \"hello\" *3 which would give: hellohellohello.\n",
    "\n",
    "Strings also have length while numbers do not. You can determine the length with the len function. "
   ]
  },
  {
   "cell_type": "markdown",
   "id": "9edc0e0f-793b-43ca-b65b-934717fcd345",
   "metadata": {},
   "source": [
    "#### What is an Index?\n",
    "\n",
    "Within a string, the characters are ordered from 0 to x. The position number of each character is called an index. \n",
    "\n",
    "You can slice your strings using indices."
   ]
  },
  {
   "cell_type": "code",
   "execution_count": 1,
   "id": "579e5a02-7c29-4c17-bcbd-3ddb074289df",
   "metadata": {},
   "outputs": [
    {
     "name": "stdout",
     "output_type": "stream",
     "text": [
      "sod\n"
     ]
    }
   ],
   "source": [
    "atom_name = \"sodium\"\n",
    "print(atom_name[0:3])"
   ]
  },
  {
   "cell_type": "markdown",
   "id": "e8a4c5e6-fca5-4843-bc60-4d9d83a9900d",
   "metadata": {},
   "source": [
    "As you can see, the string (or word rather) sodium was commanded to only print the index 0-3 of the string. [Start index:Stop index]\n",
    "\n",
    "However, we cannot perform string slicing on integer or float data types. We would need to convert those data types to strings. In general, we must convert data types if we want to run certain functions. However, floats and integers can be operated on together. "
   ]
  },
  {
   "cell_type": "markdown",
   "id": "87c0b29c-1e53-4671-9b16-2228eef04b91",
   "metadata": {},
   "source": [
    "## Exercises:\n",
    "\n",
    "Fractions:\n",
    "What type of value is 3.4? How can you find out?"
   ]
  },
  {
   "cell_type": "code",
   "execution_count": 2,
   "id": "61ae6f36-41f8-4091-9b57-e25e1d62e313",
   "metadata": {},
   "outputs": [
    {
     "name": "stdout",
     "output_type": "stream",
     "text": [
      "<class 'float'>\n"
     ]
    }
   ],
   "source": [
    "print(type(3.4))"
   ]
  },
  {
   "cell_type": "markdown",
   "id": "def471d4-269c-4e0e-bfbe-a2d9eaaa45eb",
   "metadata": {},
   "source": [
    "Automatic type conversion:\n",
    "What type of value is 3.25 + 4?"
   ]
  },
  {
   "cell_type": "code",
   "execution_count": 4,
   "id": "21adb020-3dac-428e-903a-c9ec0a0042bf",
   "metadata": {},
   "outputs": [
    {
     "name": "stdout",
     "output_type": "stream",
     "text": [
      "<class 'float'>\n"
     ]
    }
   ],
   "source": [
    "print(type(3.25 + 4))"
   ]
  },
  {
   "cell_type": "markdown",
   "id": "83520331-2f53-4942-a94a-48e330ae0f8c",
   "metadata": {},
   "source": [
    "Choose a Type:\n",
    "\n",
    "What type of value (integer, floating point number, or character string) would you use to represent each of the following? Try to come up with more than one good answer for each problem. For example, in (1), when would counting days with a floating point variable make more sense than using an integer?\n",
    "\n",
    "Number of days since the start of the year. Answer: integer. However, it might make more sense to use a float than an integer when counting days if the decimal precision is important for example with potential incubation times with experiments.\n",
    "\n",
    "Time elapsed from the start of the year until now in days. Answer: integer or float.\n",
    "\n",
    "Serial number of a piece of lab equipment. Answer: float\n",
    "\n",
    "A lab specimen’s age. Answer: integer or string\n",
    "\n",
    "Current population of a city. Answer: integer\n",
    "\n",
    "Average population of a city over time. Answer: float"
   ]
  },
  {
   "cell_type": "markdown",
   "id": "47198a4b-3455-435c-8332-4d532a6e4b7f",
   "metadata": {},
   "source": []
  }
 ],
 "metadata": {
  "kernelspec": {
   "display_name": "Python 3 (ipykernel)",
   "language": "python",
   "name": "python3"
  },
  "language_info": {
   "codemirror_mode": {
    "name": "ipython",
    "version": 3
   },
   "file_extension": ".py",
   "mimetype": "text/x-python",
   "name": "python",
   "nbconvert_exporter": "python",
   "pygments_lexer": "ipython3",
   "version": "3.12.8"
  }
 },
 "nbformat": 4,
 "nbformat_minor": 5
}
