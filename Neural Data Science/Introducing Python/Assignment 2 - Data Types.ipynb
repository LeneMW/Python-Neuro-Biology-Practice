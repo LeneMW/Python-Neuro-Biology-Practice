{
 "cells": [
  {
   "cell_type": "markdown",
   "id": "e85c7310-4695-4487-8c51-cccae58d8821",
   "metadata": {},
   "source": [
    "# Lesson 2: Data Types and Conversion\n",
    "\n",
    "Questions and Learning Objectives:\n",
    "- What kind of data do programs store?\n",
    "- How can I convert one type to another?\n",
    "\n",
    "- Explain the key differences between integers and floating point numbers.\n",
    "- Explain key differences between numbers and character strings.\n",
    "- Use built-in functions to convert between integers, floating point numbers, and strings.\n",
    "\n",
    "### Value Types\n",
    "\n",
    "- Integer is represented as (int) and is a + or - whole number\n",
    "- Floating point numbers are represented as (float): real number, has a decimal point\n",
    "- Character (char): single characters like \"a\", \"j\", \"8\", \"(\"\n",
    "-    Characters are written either in single quotes or double quotes, as long as they match.\n",
    "-    Numerals placed in quotes will be treated as characters, not integers or floats.\n",
    "- Character string or simple a string (str)\n",
    "-    Written in either single or double quotes as long as they match\n",
    "-    Quote marks aren't printed when the string is displayed."
   ]
  },
  {
   "cell_type": "code",
   "execution_count": 2,
   "id": "9be0329b-fdad-431c-8d8c-7144663ce86c",
   "metadata": {},
   "outputs": [
    {
     "name": "stdout",
     "output_type": "stream",
     "text": [
      "<class 'int'>\n"
     ]
    }
   ],
   "source": [
    "# Using the \"type\" function will allow you to figure out what data type the value input has.\n",
    "\n",
    "print(type(52))"
   ]
  },
  {
   "cell_type": "code",
   "execution_count": 3,
   "id": "91bf2a81-12b5-4712-b10b-b512952f48f2",
   "metadata": {},
   "outputs": [
    {
     "name": "stdout",
     "output_type": "stream",
     "text": [
      "<class 'str'>\n"
     ]
    }
   ],
   "source": [
    "fitness = \"average\"\n",
    "print(type(fitness))\n"
   ]
  },
  {
   "cell_type": "markdown",
   "id": "49edb6ac-7d53-41d4-85fa-7f2efe991f0a",
   "metadata": {},
   "source": []
  }
 ],
 "metadata": {
  "kernelspec": {
   "display_name": "Python 3 (ipykernel)",
   "language": "python",
   "name": "python3"
  },
  "language_info": {
   "codemirror_mode": {
    "name": "ipython",
    "version": 3
   },
   "file_extension": ".py",
   "mimetype": "text/x-python",
   "name": "python",
   "nbconvert_exporter": "python",
   "pygments_lexer": "ipython3",
   "version": "3.12.8"
  }
 },
 "nbformat": 4,
 "nbformat_minor": 5
}
