{
 "cells": [
  {
   "cell_type": "markdown",
   "id": "be7f5c58-a164-40d9-963e-663c9a109f6f",
   "metadata": {},
   "source": [
    "### Intro for Data Visualization in Python\n",
    "\n",
    "- Datasets used are typically very large and can be difficult to look at with just a table of numbers, various outcomes, etc.\n",
    "- Visualizations are helpful for identifying patterns and making inferences about data.\n",
    "\n",
    "- However, poor visualization can be confusing or create misunderstandings.\n",
    "- One must be able to choose the best visualizations that make sense for a particular dataset and the questions you are asking.\n",
    "\n",
    "\n",
    "#### Learning objectives\n",
    "- Use matplotlib to visualize data with different plots\n",
    "- Understand the difference between state-based and object-oriented uses of matplotlib\n",
    "- Use seaborn to visualize data using a variety of types of plots\n",
    "- Understand cases where seaborn is preferable over matplotlib\n",
    "- Recognize and appropriately use strategies for visualizing continuous and categorical data\n",
    "- Visualize and reason about the distributions of data\n",
    "- Understand human factors consideration in visualization\n",
    "\n",
    "\n",
    "### Intro to Matplotlib\n",
    "\n",
    "Questions:\n",
    "- How can I plot my data?\n",
    "- How can I save my plot for publishing?\n",
    "\n",
    "Matplotlib:\n",
    "- Matplotlib is the core plotting and data visualization package in Python.\n",
    "- How can we generate a plot?\n",
    "\n",
    "First we need to import the python package!\n",
    "- Like many Python packages, Matplotlib is organized by different subsets of functions. So for plotting specifically, you want to import with pyplot."
   ]
  },
  {
   "cell_type": "code",
   "execution_count": 1,
   "id": "0134850e-d3eb-4344-907c-199b50e2f092",
   "metadata": {},
   "outputs": [
    {
     "ename": "ModuleNotFoundError",
     "evalue": "No module named 'matplotlib'",
     "output_type": "error",
     "traceback": [
      "\u001b[31m---------------------------------------------------------------------------\u001b[39m",
      "\u001b[31mModuleNotFoundError\u001b[39m                       Traceback (most recent call last)",
      "\u001b[36mCell\u001b[39m\u001b[36m \u001b[39m\u001b[32mIn[1]\u001b[39m\u001b[32m, line 1\u001b[39m\n\u001b[32m----> \u001b[39m\u001b[32m1\u001b[39m \u001b[38;5;28;01mimport\u001b[39;00m\u001b[38;5;250m \u001b[39m\u001b[34;01mmatplotlib\u001b[39;00m\u001b[34;01m.\u001b[39;00m\u001b[34;01mpyplot\u001b[39;00m\u001b[38;5;250m \u001b[39m\u001b[38;5;28;01mas\u001b[39;00m\u001b[38;5;250m \u001b[39m\u001b[34;01mplt\u001b[39;00m\n",
      "\u001b[31mModuleNotFoundError\u001b[39m: No module named 'matplotlib'"
     ]
    }
   ],
   "source": [
    "import matplotlib.pyplot as plt"
   ]
  },
  {
   "cell_type": "code",
   "execution_count": 1,
   "id": "a8cc3910-3156-4d55-8052-182981499156",
   "metadata": {},
   "outputs": [
    {
     "ename": "NameError",
     "evalue": "name 'plt' is not defined",
     "output_type": "error",
     "traceback": [
      "\u001b[31m---------------------------------------------------------------------------\u001b[39m",
      "\u001b[31mNameError\u001b[39m                                 Traceback (most recent call last)",
      "\u001b[36mCell\u001b[39m\u001b[36m \u001b[39m\u001b[32mIn[1]\u001b[39m\u001b[32m, line 4\u001b[39m\n\u001b[32m      1\u001b[39m time = [\u001b[32m0\u001b[39m, \u001b[32m1\u001b[39m, \u001b[32m2\u001b[39m, \u001b[32m3\u001b[39m]\n\u001b[32m      2\u001b[39m position = [\u001b[32m0\u001b[39m, \u001b[32m100\u001b[39m, \u001b[32m200\u001b[39m, \u001b[32m300\u001b[39m]\n\u001b[32m----> \u001b[39m\u001b[32m4\u001b[39m \u001b[43mplt\u001b[49m.plot(time, position)\n",
      "\u001b[31mNameError\u001b[39m: name 'plt' is not defined"
     ]
    }
   ],
   "source": [
    "time = [0, 1, 2, 3]\n",
    "position = [0, 100, 200, 300]\n",
    "\n",
    "plt.plot(time, position)"
   ]
  },
  {
   "cell_type": "markdown",
   "id": "3c960839-aa0a-46c4-9800-fce5438d87aa",
   "metadata": {},
   "source": [
    "## Problem that I had when running the import! Troubleshoot opportunity, here is what I did\n",
    "\n",
    "I had problems with the importing of the matplotlib package which was a great opportunity to troubelshoot and figure out what was wrong. \n",
    "\n",
    "- Because I had installed miniconda rather than anaconda, I thought that potentially the issue was that I simply did not have this package installed, so I terminated the terminal and then installed matplotlib in conda.\n",
    "- However, this did not fix the issue.\n",
    "\n",
    "- Next I went to VS code and created a new python file and saw the same error, but there was a pop up that came up to change the Python interpreter.\n",
    "- I changed it to be interpreted in the (base) where my conda environment was.\n",
    "- From there I was able to figure out how to connect the Jupyter Notebook to conda by creating a virtual environment.\n",
    "\n",
    "\n",
    "In the terminal:\n",
    "\n",
    "- conda create -n my-conda-env\n",
    "- conda activate my-conda-env\n",
    "- conda install jupyter notebook\n",
    "- jupyter notebook\n",
    "\n",
    "However, this still did not work.\n",
    "\n",
    "I went back to VS Code and created a Jupyter Notebook file and I was asked to select a different Kernel. From there, I realized I need to figure out where my Jupyter Notebook was installed and where the package was installed. \n",
    "\n",
    "I returned to the terminal and installed Jupyter Notebook again but in the (base) because that is where conda was.\n",
    "\n",
    "Now my problem is fixed!"
   ]
  }
 ],
 "metadata": {
  "kernelspec": {
   "display_name": "Python 3 (ipykernel)",
   "language": "python",
   "name": "python3"
  },
  "language_info": {
   "codemirror_mode": {
    "name": "ipython",
    "version": 3
   },
   "file_extension": ".py",
   "mimetype": "text/x-python",
   "name": "python",
   "nbconvert_exporter": "python",
   "pygments_lexer": "ipython3",
   "version": "3.12.9"
  }
 },
 "nbformat": 4,
 "nbformat_minor": 5
}
